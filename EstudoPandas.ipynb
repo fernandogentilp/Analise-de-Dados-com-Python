{
 "cells": [
  {
   "cell_type": "code",
   "execution_count": 2,
   "id": "8c1fa160",
   "metadata": {},
   "outputs": [],
   "source": [
    "# Importando pandas\n",
    "import pandas as pd"
   ]
  },
  {
   "cell_type": "code",
   "execution_count": 8,
   "id": "a3b3988c",
   "metadata": {},
   "outputs": [],
   "source": [
    "# Abrindo o arquivo csv\n",
    "df = pd.read_csv(\"Dados aula 1.csv\", encoding=\"UTF-8\", sep=\";\")"
   ]
  },
  {
   "cell_type": "code",
   "execution_count": 16,
   "id": "87b60e2e",
   "metadata": {},
   "outputs": [],
   "source": [
    "# Especificando o cabeçalho do arquivo\n",
    "df = pd.read_csv(\"Dados aula 1.csv\", encoding=\"UTF-8\", sep=\";\", header=0)"
   ]
  },
  {
   "cell_type": "code",
   "execution_count": 18,
   "id": "3503c441",
   "metadata": {},
   "outputs": [],
   "source": [
    "# Selecionando apenas algumas colunas\n",
    "df = pd.read_csv(\"Dados aula 1.csv\", encoding=\"UTF-8\", sep=\";\", usecols=[\"AddressID\", \"AddressLine1\"])"
   ]
  },
  {
   "cell_type": "code",
   "execution_count": 20,
   "id": "87c82cbb",
   "metadata": {},
   "outputs": [],
   "source": [
    "# Lendo X linhas do arquivo\n",
    "df = pd.read_csv(\"Dados aula 1.csv\", encoding=\"UTF-8\", sep=\";\", usecols=[\"AddressID\", \"AddressLine1\"], nrows=200)"
   ]
  },
  {
   "cell_type": "code",
   "execution_count": 19,
   "id": "d7df2fee",
   "metadata": {},
   "outputs": [
    {
     "data": {
      "text/html": [
       "<div>\n",
       "<style scoped>\n",
       "    .dataframe tbody tr th:only-of-type {\n",
       "        vertical-align: middle;\n",
       "    }\n",
       "\n",
       "    .dataframe tbody tr th {\n",
       "        vertical-align: top;\n",
       "    }\n",
       "\n",
       "    .dataframe thead th {\n",
       "        text-align: right;\n",
       "    }\n",
       "</style>\n",
       "<table border=\"1\" class=\"dataframe\">\n",
       "  <thead>\n",
       "    <tr style=\"text-align: right;\">\n",
       "      <th></th>\n",
       "      <th>AddressID</th>\n",
       "      <th>AddressLine1</th>\n",
       "    </tr>\n",
       "  </thead>\n",
       "  <tbody>\n",
       "    <tr>\n",
       "      <th>0</th>\n",
       "      <td>1</td>\n",
       "      <td>1970 Napa Ct.</td>\n",
       "    </tr>\n",
       "    <tr>\n",
       "      <th>1</th>\n",
       "      <td>2</td>\n",
       "      <td>9833 Mt. Dias Blv.</td>\n",
       "    </tr>\n",
       "    <tr>\n",
       "      <th>2</th>\n",
       "      <td>3</td>\n",
       "      <td>7484 Roundtree Drive</td>\n",
       "    </tr>\n",
       "    <tr>\n",
       "      <th>3</th>\n",
       "      <td>4</td>\n",
       "      <td>9539 Glenside Dr</td>\n",
       "    </tr>\n",
       "    <tr>\n",
       "      <th>4</th>\n",
       "      <td>5</td>\n",
       "      <td>1226 Shoe St.</td>\n",
       "    </tr>\n",
       "  </tbody>\n",
       "</table>\n",
       "</div>"
      ],
      "text/plain": [
       "   AddressID          AddressLine1\n",
       "0          1         1970 Napa Ct.\n",
       "1          2    9833 Mt. Dias Blv.\n",
       "2          3  7484 Roundtree Drive\n",
       "3          4      9539 Glenside Dr\n",
       "4          5         1226 Shoe St."
      ]
     },
     "execution_count": 19,
     "metadata": {},
     "output_type": "execute_result"
    }
   ],
   "source": [
    "df.head()"
   ]
  },
  {
   "cell_type": "code",
   "execution_count": 21,
   "id": "00a45620",
   "metadata": {},
   "outputs": [
    {
     "data": {
      "text/plain": [
       "(200, 2)"
      ]
     },
     "execution_count": 21,
     "metadata": {},
     "output_type": "execute_result"
    }
   ],
   "source": [
    "df.shape"
   ]
  },
  {
   "cell_type": "code",
   "execution_count": null,
   "id": "8ccf11cb",
   "metadata": {},
   "outputs": [],
   "source": []
  }
 ],
 "metadata": {
  "kernelspec": {
   "display_name": "Python 3 (ipykernel)",
   "language": "python",
   "name": "python3"
  },
  "language_info": {
   "codemirror_mode": {
    "name": "ipython",
    "version": 3
   },
   "file_extension": ".py",
   "mimetype": "text/x-python",
   "name": "python",
   "nbconvert_exporter": "python",
   "pygments_lexer": "ipython3",
   "version": "3.11.3"
  }
 },
 "nbformat": 4,
 "nbformat_minor": 5
}
